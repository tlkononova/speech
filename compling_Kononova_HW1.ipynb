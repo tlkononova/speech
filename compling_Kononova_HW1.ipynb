{
 "cells": [
  {
   "cell_type": "markdown",
   "metadata": {},
   "source": [
    "Построение модели"
   ]
  },
  {
   "cell_type": "code",
   "execution_count": 16,
   "metadata": {
    "collapsed": false
   },
   "outputs": [],
   "source": [
    "from collections import Counter, defaultdict\n",
    "\n",
    "class LanguageModel:\n",
    "    def __init__(self, data, order=4):\n",
    "        self.order = order\n",
    "        self.ngrams = defaultdict(Counter)\n",
    "        pad = '~' * order\n",
    "        data = pad + data\n",
    "        ### YOUR CODE HERE\n",
    "        # For each ngram in data count all characters following this ngram.\n",
    "        # For instance for oder = 2 and data = 'abcbcb' self.ngrams should be the following:\n",
    "        # self.ngrams['~~']['a'] == 1\n",
    "        # self.ngrams['~a']['b'] == 1\n",
    "        # self.ngrams['ab']['c'] == 1\n",
    "        # self.ngrams['bc']['b'] == 2\n",
    "        # self.ngrams['cb']['c'] == 1\n",
    "        \n",
    "        for i in range(len(data) - order):\n",
    "            ngram = data[i: i + order]\n",
    "            char = data[i + order]\n",
    "            self.ngrams[ngram][char] += 1       \n",
    "        \n",
    "        ### END YOUR CODE\n",
    "        self.lm = {history: self.normalize(chars) for history, chars in self.ngrams.items()}\n",
    "             \n",
    "        \n",
    "    \n",
    "    def normalize(self, counter):\n",
    "        ### YOUR CODE HERE\n",
    "        # Normalize entries of counter.\n",
    "        # For instance if you have Counter('a', 'b', 'a', 'a')\n",
    "        # you should return the following list:\n",
    "        # [('a', 0.75), ('b', 0.25)]\n",
    "        \n",
    "        total = sum(counter.values())\n",
    "        items = counter.items()\n",
    "        norm = []\n",
    "        for char, count in items:\n",
    "            norm.append((char, count/total))\n",
    "        \n",
    "        return norm\n",
    "\n",
    "        ### END YOUR CODE\n",
    "    \n",
    "    def __getitem__(self, history):\n",
    "        return self.lm[history]"
   ]
  },
  {
   "cell_type": "code",
   "execution_count": null,
   "metadata": {
    "collapsed": true
   },
   "outputs": [],
   "source": [
    "Простые тесты:"
   ]
  },
  {
   "cell_type": "code",
   "execution_count": 17,
   "metadata": {
    "collapsed": false
   },
   "outputs": [],
   "source": [
    "lm = LanguageModel('abcabdabc', order=2)"
   ]
  },
  {
   "cell_type": "code",
   "execution_count": 18,
   "metadata": {
    "collapsed": false
   },
   "outputs": [
    {
     "data": {
      "text/plain": [
       "[('c', 0.6666666666666666), ('d', 0.3333333333333333)]"
      ]
     },
     "execution_count": 18,
     "metadata": {},
     "output_type": "execute_result"
    }
   ],
   "source": [
    "lm['ab']"
   ]
  },
  {
   "cell_type": "markdown",
   "metadata": {},
   "source": [
    "Модель на Шекспире"
   ]
  },
  {
   "cell_type": "code",
   "execution_count": null,
   "metadata": {
    "collapsed": true
   },
   "outputs": [],
   "source": [
    "(Модель обучалась на сокращенном корпусе shakespeare_short, так как для большого не хватало памяти)"
   ]
  },
  {
   "cell_type": "code",
   "execution_count": 27,
   "metadata": {
    "collapsed": false
   },
   "outputs": [],
   "source": [
    "with open('shakespeare_short.txt', 'r') as fin:\n",
    "    lm = LanguageModel(fin.read())"
   ]
  },
  {
   "cell_type": "code",
   "execution_count": 28,
   "metadata": {
    "collapsed": false
   },
   "outputs": [
    {
     "data": {
      "text/plain": [
       "[('r', 0.05), ('u', 0.05), ('w', 0.9)]"
      ]
     },
     "execution_count": 28,
     "metadata": {},
     "output_type": "execute_result"
    }
   ],
   "source": [
    "lm['ello']"
   ]
  },
  {
   "cell_type": "code",
   "execution_count": 29,
   "metadata": {
    "collapsed": false
   },
   "outputs": [
    {
     "data": {
      "text/plain": [
       "[('t', 1.0)]"
      ]
     },
     "execution_count": 29,
     "metadata": {},
     "output_type": "execute_result"
    }
   ],
   "source": [
    "lm['firs']"
   ]
  },
  {
   "cell_type": "code",
   "execution_count": null,
   "metadata": {
    "collapsed": true
   },
   "outputs": [],
   "source": [
    "Генерация текста"
   ]
  },
  {
   "cell_type": "code",
   "execution_count": 22,
   "metadata": {
    "collapsed": true
   },
   "outputs": [],
   "source": [
    "from random import random\n",
    "import numpy\n",
    "\n",
    "def generate_letter(lm, history):\n",
    "    history = history[-lm.order:]\n",
    "    ### YOUR CODE HERE\n",
    "    # Generate the next character according to the history.\n",
    "    # Don't forget to use your probabilities!\n",
    "    # Sample the next letter according to your probability distribution.\n",
    "    \n",
    "    candidates = lm[history]\n",
    "    chars = [i[0] for i in candidates]\n",
    "    probs = [i[1] for i in candidates]\n",
    "    \n",
    "    res = numpy.random.choice(chars, p=probs)\n",
    "    \n",
    "    return res\n",
    "    \n",
    "    \n",
    "    ### END YOUR CODE\n",
    "        \n",
    "def generate_text(lm, n_letters=1000):\n",
    "    history = '~' * lm.order\n",
    "    out = []\n",
    "    ### YOUR CODE HERE\n",
    "    # Generate random text and stash it into out variable.\n",
    "\n",
    "    #out.append(history)\n",
    "    for i in range(n_letters):\n",
    "        char = generate_letter(lm, history)\n",
    "        out.append(char)\n",
    "        history = history[1:] + char\n",
    "    \n",
    "    ### END YOUR CODE\n",
    "    return ''.join(out)"
   ]
  },
  {
   "cell_type": "code",
   "execution_count": null,
   "metadata": {
    "collapsed": true
   },
   "outputs": [],
   "source": [
    "Тесты:"
   ]
  },
  {
   "cell_type": "code",
   "execution_count": 26,
   "metadata": {
    "collapsed": false
   },
   "outputs": [
    {
     "name": "stdout",
     "output_type": "stream",
     "text": [
      "First Senators, and some charge he is come.\n",
      "\n",
      "AUFIDIUS:\n",
      "On fairly.\n",
      "\n",
      "CORIOLANUS:\n",
      "Hear Come, you well, which\n",
      "in ther.\n",
      "\n",
      "VOLUMNIA:\n",
      "How? who way will the voluptuously.\n",
      "\n",
      "MENENIUS:\n",
      "I have as if I besider ancient often his cause had chievingman:\n",
      "Therefore thine times\n",
      "To held; and battles in alike the flouts well.\n",
      "\n",
      "CORIOLANUS:\n",
      "Say, more the will not alone sea was 'tis the scents!\n",
      "\n",
      "MENENIUS:\n",
      "Master it? Prithere upon him out.\n",
      "\n",
      "MENENIUS:\n",
      "Cholesome I am hang 'em in conside only surcease you noble home, get you,\n",
      "Let me news?\n",
      "\n",
      "First Senators, led with these this sworn an 't:\n",
      "Pray your enterrily and I'll party, 'tis these shall's vouch'd, what loves, am a bowl thin.\n",
      "\n",
      "SICINIUS:\n",
      "Say you make it, I think 'twas necessity\n",
      "Than I send me by creater and god: he's good it go about as Coriolanus.\n",
      "\n",
      "COMINIUS:\n",
      "This dearth the rive!\n",
      "\n",
      "MENENIUS:\n",
      "Nay, your Roman; in love forwards twenty, I prison writes, our body, which doit, Corioli gates\n",
      "Which in our own you reads must\n",
      "Confusion on much a rod to these ask'd of your \n"
     ]
    }
   ],
   "source": [
    "with open('shakespeare_short.txt', 'r') as fin:\n",
    "    lm = LanguageModel(fin.read())\n",
    "    \n",
    "print(generate_text(lm, 1000))"
   ]
  },
  {
   "cell_type": "code",
   "execution_count": 15,
   "metadata": {
    "collapsed": false
   },
   "outputs": [
    {
     "name": "stdout",
     "output_type": "stream",
     "text": [
      "First Citizen:\n",
      "An 'twere to gird the gods, keep you in free contempt\n",
      "When he hath said\n",
      "Which were inshell'd when Marcius home against thy valour. Know thou hast a grim appearance, and shut your loves,\n",
      "Cog their god: he leads them like a hare.\n",
      "\n",
      "MARCIUS:\n",
      "\n",
      "COMINIUS:\n",
      "What, what, what? his choler\n",
      "And pass'd him unelected.\n",
      "\n",
      "BRUTUS:\n",
      "If it were son\n",
      "and heir to Mars; set up the blood upon yourselves. What do you two\n",
      "have not indeed loved\n",
      "the people,\n",
      "Permitted by our putting him to the people! Coriolanus; never more\n",
      "To enter our Rome embraced with all the point of battle;\n",
      "The one half of my common cry of curs! whose bed, whose meal, and exercise,\n",
      "Are still and wonder,\n",
      "When one but the bran.' What says the other.\n",
      "\n",
      "Third Servingman:\n",
      "Where is their vulgar station: or veil'd till when\n",
      "They needs must show them the unaching scars which caused\n",
      "Our swifter composition.\n",
      "\n",
      "CORIOLANUS:\n",
      "I am known to the good horse is mine.\n",
      "\n",
      "MARCIUS:\n",
      "'Tis not to call us the tribune.\n",
      "\n",
      "MENENIUS:\n",
      "As with a voice as free\n",
      "As words that apes would be my mind!\n",
      "\n",
      "SICINIUS:\n",
      "Nay, let the point of battle;\n",
      "The one side must have been too violent, testy magistrates, alias fools, as\n",
      "any in Rome.\n",
      "\n",
      "SICINIUS:\n",
      "Masters o' the people; not by such easy degrees as those senators of Rome worse hated than they.\n",
      "\n",
      "COMINIUS:\n",
      "You have told him\n",
      "As you threw caps up will he tumble down,\n",
      "And pay you for you both!\n",
      "\n",
      "SICINIUS:\n",
      "Pass no further, hear me.\n",
      "\n",
      "MARCIUS:\n",
      "Nay. but his taunts.\n",
      "\n",
      "BRUTUS:\n",
      "Then our office and the bleared sights\n",
      "Are spectacles; tell thee, for I mock at death\n",
      "With as big heart as thou list\n",
      "Thy valiant ignorant election; enforce his pride,\n",
      "Which you do live upon; and thou hast\n",
      "A heart of wreak in thee, all noble sufferance.\n",
      "\n",
      "SICINIUS:\n",
      "What is granted them by tribes?\n",
      "\n",
      "AEdile:\n",
      "He's coming home!\n",
      "\n",
      "VOLUMNIA:\n",
      "Nay, my good\n",
      "Marcius 'O if he\n",
      "Had borne their bedfellow.\n",
      "Worthy Cominius speak, I pray you, what he would not seem to wear one heart,\n",
      "Now humble weeds.\n",
      "will you be gone, beseech you.\n",
      "\n",
      "First Servingman:\n",
      "Where's Caius Marcius\n"
     ]
    }
   ],
   "source": [
    "with open('shakespeare_short.txt', 'r') as fin:\n",
    "    lm = LanguageModel(fin.read(), 8)\n",
    "    \n",
    "print(generate_text(lm, 2000))"
   ]
  },
  {
   "cell_type": "code",
   "execution_count": 25,
   "metadata": {
    "collapsed": false
   },
   "outputs": [
    {
     "name": "stdout",
     "output_type": "stream",
     "text": [
      "First Citizen:\n",
      "Before we proceed any further, hear me speak.\n",
      "\n",
      "All:\n",
      "Speak, speak.\n",
      "\n",
      "First Citizen:\n",
      "Our business is not unknown to the senate; they have\n",
      "had inkling this fortnight what we intend to do,\n",
      "which now we'll show 'em in deeds. They say poor\n",
      "suitors have strong breaths: they shall know our mind: away!\n",
      "\n",
      "COMINIUS:\n",
      "Breathe you, my friends: well fought;\n",
      "we are come off\n",
      "Like Romans, neither foolish in our stands,\n",
      "Nor cowardly in retire: believe me, sirs,\n",
      "We shall be charged again. Whiles we have struck,\n",
      "By interims and conveying gusts we have heard\n",
      "The charges of our friends. Ye Roman gods!\n",
      "Lead their successes as we wish our own,\n",
      "That both our powers, with smiling\n",
      "fronts encountering,\n",
      "May give you thankful sacrifice.\n",
      "Thy news?\n",
      "\n",
      "Messenger:\n",
      "They lie in view; but have not spoke as yet.\n",
      "\n",
      "LARTIUS:\n",
      "So, let the ports be guarded: keep your duties,\n",
      "As I have set them down. If I do send, dispatch\n",
      "Those centuries to our aid: the rest will serve\n",
      "For a short holding: if we lose the field,\n",
      "We cannot keep the town.\n",
      "\n",
      "Lieutenant:\n",
      "Fear not our care, sir.\n",
      "\n",
      "LARTIUS:\n",
      "O,'tis Marcius!\n",
      "Let's fetch him off, or make remain alike.\n",
      "\n",
      "First Roman:\n",
      "This will I carry to Rome.\n",
      "\n",
      "Second Roman:\n",
      "And I this.\n",
      "\n",
      "Third Roman:\n",
      "A murrain on't! I took this for silver.\n",
      "\n",
      "MARCIUS:\n",
      "See here these movers that do prize their hours\n",
      "At a crack'd drachm! Cushions, leaden spoons,\n",
      "Irons of a doit, doublets that hangmen would\n",
      "Bury with those that have but little: this must be patch'd\n",
      "With cloth of any colour.\n",
      "\n",
      "COMINIUS:\n",
      "Though I could wish\n",
      "You were conducted to a gentle bath\n",
      "And balms applied to, you, yet dare I never\n",
      "Deny your asking: take your choice of those\n",
      "That best can aid your action.\n",
      "\n",
      "MARCIUS:\n",
      "Those are they\n",
      "That made the air unwholesome, when you cast\n",
      "Your stinking greasy caps in hooting at\n",
      "Coriolanus' exile. Now he's coming;\n",
      "And not a hair upon a soldier's head\n",
      "Which will not prove a whip: as many coxcombs\n",
      "As you threw caps up will he tumble down,\n",
      "And pay you for your voices have\n",
      "Done many things, some less, s\n"
     ]
    }
   ],
   "source": [
    "with open('shakespeare_short.txt', 'r') as fin:\n",
    "    lm = LanguageModel(fin.read(), 16)\n",
    "    \n",
    "print(generate_text(lm, 2000))"
   ]
  }
 ],
 "metadata": {
  "kernelspec": {
   "display_name": "Python 2",
   "language": "python",
   "name": "python2"
  },
  "language_info": {
   "codemirror_mode": {
    "name": "ipython",
    "version": 2
   },
   "file_extension": ".py",
   "mimetype": "text/x-python",
   "name": "python",
   "nbconvert_exporter": "python",
   "pygments_lexer": "ipython2",
   "version": "2.7.11"
  }
 },
 "nbformat": 4,
 "nbformat_minor": 0
}
