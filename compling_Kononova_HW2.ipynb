{
 "cells": [
  {
   "cell_type": "markdown",
   "metadata": {},
   "source": [
    "Theory"
   ]
  },
  {
   "cell_type": "markdown",
   "metadata": {},
   "source": [
    "X - случ. величина количества попыток для перехода из одного состояние в другое. Она имеет геометрическое распределению, мат. ожидание которого есть E(X) = 1/p, где р - вероятность успеха на каждом шаге. \n",
    "Итого для данной цепи:\n",
    "E(X) = E(X1) + E(X2) + E(X3) = 1/0.4 + 1/0.5 + 1/0.7 = 5.92 \n",
    "то есть около 6 шагов"
   ]
  },
  {
   "cell_type": "code",
   "execution_count": 41,
   "metadata": {
    "collapsed": false
   },
   "outputs": [
    {
     "data": {
      "text/plain": [
       "5.928571428571429"
      ]
     },
     "execution_count": 41,
     "metadata": {},
     "output_type": "execute_result"
    }
   ],
   "source": [
    "1/0.4 + 1/0.5 + 1/0.7"
   ]
  },
  {
   "cell_type": "markdown",
   "metadata": {},
   "source": [
    "Practice"
   ]
  },
  {
   "cell_type": "markdown",
   "metadata": {},
   "source": [
    "Task 1"
   ]
  },
  {
   "cell_type": "code",
   "execution_count": 1,
   "metadata": {
    "collapsed": false
   },
   "outputs": [
    {
     "name": "stdout",
     "output_type": "stream",
     "text": [
      "5406\n"
     ]
    }
   ],
   "source": [
    "import numpy as np\n",
    "import os\n",
    "\n",
    "filenames = os.listdir('np_data')\n",
    "print(len(filenames))"
   ]
  },
  {
   "cell_type": "code",
   "execution_count": 3,
   "metadata": {
    "collapsed": false
   },
   "outputs": [],
   "source": [
    "uids = list(set([fname.split('.')[0] for fname in filenames])) #utterance id ()\n",
    "#print(uids[:5])"
   ]
  },
  {
   "cell_type": "code",
   "execution_count": 4,
   "metadata": {
    "collapsed": false
   },
   "outputs": [
    {
     "name": "stdout",
     "output_type": "stream",
     "text": [
      "2703 2703\n"
     ]
    }
   ],
   "source": [
    "feats = {}\n",
    "alis = {}\n",
    "for uid in uids:\n",
    "    feats[uid] = np.load('np_data/{}.feats.npy'.format(uid))\n",
    "    alis[uid] = np.load('np_data/{}.targs.npy'.format(uid))\n",
    "\n",
    "print(len(feats), len(alis))"
   ]
  },
  {
   "cell_type": "markdown",
   "metadata": {},
   "source": [
    "get all silence tags"
   ]
  },
  {
   "cell_type": "code",
   "execution_count": 5,
   "metadata": {
    "collapsed": false
   },
   "outputs": [
    {
     "name": "stdout",
     "output_type": "stream",
     "text": [
      "15\n"
     ]
    }
   ],
   "source": [
    "sils = set()\n",
    "with open('./data/lang/phones/silence.txt', 'r', encoding='utf-8') as f:\n",
    "    for line in f: \n",
    "        sils.add(line)\n",
    "print(len(sils))"
   ]
  },
  {
   "cell_type": "markdown",
   "metadata": {},
   "source": [
    "Get all phones tags"
   ]
  },
  {
   "cell_type": "code",
   "execution_count": 6,
   "metadata": {
    "collapsed": false
   },
   "outputs": [
    {
     "name": "stdout",
     "output_type": "stream",
     "text": [
      "320\n"
     ]
    }
   ],
   "source": [
    "num2phone = {}\n",
    "with open('./data/lang/phones.txt', 'r', encoding='utf-8') as f:\n",
    "    for line in f:\n",
    "        phone, num = line.split()\n",
    "        num2phone[num] = phone\n",
    "print(len(num2phone))"
   ]
  },
  {
   "cell_type": "markdown",
   "metadata": {},
   "source": [
    "Simplified phones set"
   ]
  },
  {
   "cell_type": "code",
   "execution_count": 7,
   "metadata": {
    "collapsed": false
   },
   "outputs": [
    {
     "name": "stdout",
     "output_type": "stream",
     "text": [
      "320\n"
     ]
    }
   ],
   "source": [
    "n2ph = {}\n",
    "for num in num2phone:\n",
    "    if num2phone[num] in sils:\n",
    "        n2ph[num] = 'SIL'\n",
    "    elif '_' in num2phone[num]:\n",
    "        #main = num2phone[num].split('_')[0]\n",
    "        #n2ph[num] = main\n",
    "        n2ph[num] = num2phone[num].split('_')[0]\n",
    "    else:\n",
    "        n2ph[num] = num2phone[num]\n",
    "        \n",
    "print(len(n2ph))"
   ]
  },
  {
   "cell_type": "markdown",
   "metadata": {},
   "source": [
    "Get triphones"
   ]
  },
  {
   "cell_type": "code",
   "execution_count": 8,
   "metadata": {
    "collapsed": true
   },
   "outputs": [],
   "source": [
    "from collections import OrderedDict\n",
    "from collections import defaultdict\n",
    "tri2f = defaultdict(list)\n",
    "\n",
    "for uid in uids:\n",
    "    ali = [n2ph[str(num)] for num in alis[uid]]\n",
    "    ali.insert(0,'START')\n",
    "    ali.append('END') #add start and end tags\n",
    "    feat = list(feats[uid])\n",
    "    feat.insert(0,'START')\n",
    "    feat.append('END')\n",
    "    unique = list(OrderedDict.fromkeys(ali)) #get ordered phone list\n",
    "    pre, center, post = tuple(unique[:3])\n",
    "    k = 2\n",
    "\n",
    "    for i, a in enumerate(ali):\n",
    "        if a == pre: \n",
    "            continue\n",
    "        elif a == center:\n",
    "            tri = tuple((pre, center, post))\n",
    "            tri2f[tri] += [feat[i]] \n",
    "        elif a == post:\n",
    "            if a == 'END':\n",
    "                continue\n",
    "            pre = center\n",
    "            center = a     \n",
    "            k += 1\n",
    "            post = unique[k]\n",
    "            tri = tuple((pre, center, post))\n",
    "            tri2f[tri] += [feat[i]]"
   ]
  },
  {
   "cell_type": "code",
   "execution_count": 42,
   "metadata": {
    "collapsed": false
   },
   "outputs": [
    {
     "name": "stdout",
     "output_type": "stream",
     "text": [
      "31117\n"
     ]
    }
   ],
   "source": [
    "print(len(tri2f))"
   ]
  },
  {
   "cell_type": "markdown",
   "metadata": {},
   "source": [
    "Task 2"
   ]
  },
  {
   "cell_type": "markdown",
   "metadata": {},
   "source": [
    "Get mu and sigma for triphones"
   ]
  },
  {
   "cell_type": "code",
   "execution_count": 9,
   "metadata": {
    "collapsed": true
   },
   "outputs": [],
   "source": [
    "def mu_sigma(feats):\n",
    "    mean = np.mean(feats, axis=0)\n",
    "    std = np.std(feats, axis=0)\n",
    "    return mean, std\n",
    "\n",
    "means = {}\n",
    "stds = {}\n",
    "for tri in tri2f:\n",
    "    means[tri], stds[tri] = mu_sigma(tri2f[tri])"
   ]
  },
  {
   "cell_type": "code",
   "execution_count": 44,
   "metadata": {
    "collapsed": false
   },
   "outputs": [
    {
     "name": "stdout",
     "output_type": "stream",
     "text": [
      "40\n",
      "40\n"
     ]
    }
   ],
   "source": [
    "print(len(means[('SH', 'AE1', 'OW0')]))\n",
    "print(len(stds[('SH', 'AE1', 'OW0')]))"
   ]
  },
  {
   "cell_type": "code",
   "execution_count": 11,
   "metadata": {
    "collapsed": true
   },
   "outputs": [],
   "source": [
    "tri2stat = defaultdict()\n",
    "for tri in means:\n",
    "    tri2stat[tri] = np.concatenate((means[tri],stds[tri]))"
   ]
  },
  {
   "cell_type": "code",
   "execution_count": 45,
   "metadata": {
    "collapsed": false
   },
   "outputs": [
    {
     "name": "stdout",
     "output_type": "stream",
     "text": [
      "80\n"
     ]
    }
   ],
   "source": [
    "print(len(tri2stat[('SH', 'AE1', 'OW0')]))"
   ]
  },
  {
   "cell_type": "markdown",
   "metadata": {},
   "source": [
    "Task 3"
   ]
  },
  {
   "cell_type": "markdown",
   "metadata": {},
   "source": [
    "Triphone AE1"
   ]
  },
  {
   "cell_type": "code",
   "execution_count": 12,
   "metadata": {
    "collapsed": false
   },
   "outputs": [],
   "source": [
    "AE1 = {tri: tri2stat[tri] for tri in tri2stat if tri[1] == 'AE1'}\n",
    "AE1_names = list(AE1.keys())\n",
    "AE1_data = [AE1[tri] for tri in AE1_names]"
   ]
  },
  {
   "cell_type": "markdown",
   "metadata": {},
   "source": [
    "Cluster"
   ]
  },
  {
   "cell_type": "code",
   "execution_count": 13,
   "metadata": {
    "collapsed": false
   },
   "outputs": [
    {
     "name": "stderr",
     "output_type": "stream",
     "text": [
      "C:\\Users\\TK_adm\\Anaconda3\\lib\\site-packages\\sklearn\\utils\\fixes.py:64: DeprecationWarning: inspect.getargspec() is deprecated, use inspect.signature() instead\n",
      "  if 'order' in inspect.getargspec(np.copy)[0]:\n"
     ]
    }
   ],
   "source": [
    "from sklearn.cluster import KMeans\n",
    "\n",
    "kmeans = KMeans(n_clusters=5, random_state=0).fit(AE1_data)\n",
    "classes = kmeans.labels_\n",
    "#results = zip(AE1_names, classes)"
   ]
  },
  {
   "cell_type": "code",
   "execution_count": 17,
   "metadata": {
    "collapsed": false
   },
   "outputs": [],
   "source": [
    "result = zip(list(classes), AE1_names)"
   ]
  },
  {
   "cell_type": "code",
   "execution_count": 26,
   "metadata": {
    "collapsed": false
   },
   "outputs": [],
   "source": [
    "clusters = defaultdict(list)\n",
    "for i, cl in enumerate(list(classes)):\n",
    "    clusters[cl].append(AE1_names[i]) "
   ]
  },
  {
   "cell_type": "code",
   "execution_count": 38,
   "metadata": {
    "collapsed": false
   },
   "outputs": [
    {
     "name": "stdout",
     "output_type": "stream",
     "text": [
      "823\n",
      "165\n",
      "181\n",
      "195\n",
      "105\n",
      "177\n"
     ]
    }
   ],
   "source": [
    "print(len(AE1_names))\n",
    "print(len(clusters[0]))\n",
    "print(len(clusters[1]))\n",
    "print(len(clusters[2]))\n",
    "print(len(clusters[3]))\n",
    "print(len(clusters[4]))"
   ]
  },
  {
   "cell_type": "code",
   "execution_count": 32,
   "metadata": {
    "collapsed": false
   },
   "outputs": [
    {
     "name": "stdout",
     "output_type": "stream",
     "text": [
      "[('SH', 'AE1', 'OW0'), ('UH1', 'AE1', 'IY0'), ('UH1', 'AE1', 'W'), ('AY1', 'AE1', 'AW1'), ('UW1', 'AE1', 'OW1'), ('M', 'AE1', 'V'), ('OY1', 'AE1', 'L'), ('T', 'AE1', 'IH1'), ('AY1', 'AE1', 'Z'), ('P', 'AE1', 'EU1'), ('P', 'AE1', 'Y'), ('OY1', 'AE1', 'AY1'), ('HH', 'AE1', 'JH'), ('V', 'AE1', 'JH'), ('NG', 'AE1', 'T'), ('NG', 'AE1', 'END'), ('AH0', 'AE1', 'HH'), ('S', 'AE1', 'NG'), ('V', 'AE1', 'D'), ('V', 'AE1', 'T'), ('M', 'AE1', 'NG'), ('G', 'AE1', 'IH1'), ('HH', 'AE1', 'W'), ('AH0', 'AE1', 'G'), ('N', 'AE1', 'EH1'), ('V', 'AE1', 'DH'), ('Y', 'AE1', 'NG'), ('DH', 'AE1', 'CH'), ('AY0', 'AE1', 'IH0'), ('TH', 'AE1', 'JH'), ('AA1', 'AE1', 'B'), ('B', 'AE1', 'M'), ('DH', 'AE1', 'EU0'), ('AO1', 'AE1', 'IH1'), ('V', 'AE1', 'IY1'), ('CH', 'AE1', 'D'), ('SH', 'AE1', 'IY0'), ('D', 'AE1', 'END'), ('R', 'AE1', 'G'), ('B', 'AE1', 'SH'), ('D', 'AE1', 'AY1'), ('DH', 'AE1', 'NG'), ('IY0', 'AE1', 'UH1'), ('EH1', 'AE1', 'Y'), ('IH0', 'AE1', 'EH1'), ('G', 'AE1', 'W'), ('EU1', 'AE1', 'D'), ('N', 'AE1', 'JH'), ('AH1', 'AE1', 'Y'), ('V', 'AE1', 'K'), ('UW1', 'AE1', 'K'), ('HH', 'AE1', 'M'), ('JH', 'AE1', 'Y'), ('SH', 'AE1', 'B'), ('Z', 'AE1', 'IY0'), ('K', 'AE1', 'AH0'), ('CH', 'AE1', 'AH0'), ('EY1', 'AE1', 'OW1'), ('M', 'AE1', 'N'), ('M', 'AE1', 'END'), ('EH1', 'AE1', 'N'), ('OW1', 'AE1', 'EU0'), ('HH', 'AE1', 'AW1'), ('AA1', 'AE1', 'AO1'), ('JH', 'AE1', 'N'), ('Z', 'AE1', 'EU1'), ('NG', 'AE1', 'S'), ('IY1', 'AE1', 'UW1'), ('M', 'AE1', 'EY1'), ('L', 'AE1', 'W'), ('EU1', 'AE1', 'W'), ('UW1', 'AE1', 'TH'), ('K', 'AE1', 'W'), ('G', 'AE1', 'P'), ('B', 'AE1', 'NG'), ('NG', 'AE1', 'DH'), ('D', 'AE1', 'NG'), ('P', 'AE1', 'R'), ('M', 'AE1', 'DH'), ('IH1', 'AE1', 'DH'), ('V', 'AE1', 'IY0'), ('Z', 'AE1', 'V'), ('IY0', 'AE1', 'M'), ('NG', 'AE1', 'OY1'), ('F', 'AE1', 'M'), ('EH1', 'AE1', 'EU0'), ('UW1', 'AE1', 'R'), ('N', 'AE1', 'Z'), ('AH1', 'AE1', 'AO1'), ('N', 'AE1', 'T'), ('HH', 'AE1', 'OW1'), ('HH', 'AE1', 'AA1'), ('P', 'AE1', 'CH'), ('D', 'AE1', 'V'), ('K', 'AE1', 'M'), ('K', 'AE1', 'NG'), ('AW1', 'AE1', 'DH'), ('W', 'AE1', 'AH0'), ('M', 'AE1', 'L'), ('EU1', 'AE1', 'V'), ('AO1', 'AE1', 'IY1'), ('IY0', 'AE1', 'NG'), ('JH', 'AE1', 'M'), ('L', 'AE1', 'JH'), ('T', 'AE1', 'M'), ('NG', 'AE1', 'B'), ('L', 'AE1', 'M'), ('EY1', 'AE1', 'NG'), ('M', 'AE1', 'AW1'), ('DH', 'AE1', 'END'), ('DH', 'AE1', 'N'), ('N', 'AE1', 'M'), ('OW0', 'AE1', 'G'), ('DH', 'AE1', 'UW1'), ('T', 'AE1', 'HH'), ('AY1', 'AE1', 'IH0'), ('S', 'AE1', 'AO1'), ('M', 'AE1', 'UH1'), ('HH', 'AE1', 'D'), ('T', 'AE1', 'AO1'), ('M', 'AE1', 'R'), ('D', 'AE1', 'IH1'), ('K', 'AE1', 'AW1'), ('S', 'AE1', 'IY1'), ('AY1', 'AE1', 'M'), ('AA1', 'AE1', 'AH1'), ('CH', 'AE1', 'EY1'), ('G', 'AE1', 'JH'), ('T', 'AE1', 'EU0'), ('AH1', 'AE1', 'T'), ('OW1', 'AE1', 'AH0'), ('NG', 'AE1', 'SH'), ('S', 'AE1', 'P'), ('NG', 'AE1', 'AH0'), ('OW1', 'AE1', 'UW0'), ('Z', 'AE1', 'G'), ('T', 'AE1', 'AH0'), ('EH1', 'AE1', 'T'), ('IY1', 'AE1', 'P'), ('IY0', 'AE1', 'IH0'), ('T', 'AE1', 'END'), ('S', 'AE1', 'OW1'), ('UW1', 'AE1', 'AA1'), ('M', 'AE1', 'G'), ('CH', 'AE1', 'DH'), ('M', 'AE1', 'AH0'), ('TH', 'AE1', 'NG'), ('EH1', 'AE1', 'END'), ('HH', 'AE1', 'EY1'), ('NG', 'AE1', 'HH'), ('M', 'AE1', 'W'), ('D', 'AE1', 'OW1'), ('V', 'AE1', 'W'), ('DH', 'AE1', 'AW1'), ('K', 'AE1', 'DH'), ('D', 'AE1', 'AA1'), ('Y', 'AE1', 'EU1'), ('IY1', 'AE1', 'IH0'), ('AY1', 'AE1', 'B'), ('IH0', 'AE1', 'NG'), ('AH0', 'AE1', 'IH0'), ('DH', 'AE1', 'Y'), ('L', 'AE1', 'IY0'), ('IY0', 'AE1', 'G'), ('IY0', 'AE1', 'AA1')]\n"
     ]
    }
   ],
   "source": [
    "print(clusters[0])"
   ]
  },
  {
   "cell_type": "code",
   "execution_count": 33,
   "metadata": {
    "collapsed": false
   },
   "outputs": [
    {
     "name": "stdout",
     "output_type": "stream",
     "text": [
      "[('DH', 'AE1', 'F'), ('B', 'AE1', 'JH'), ('F', 'AE1', 'TH'), ('IH0', 'AE1', 'AY1'), ('EH1', 'AE1', 'B'), ('B', 'AE1', 'F'), ('EY1', 'AE1', 'Y'), ('TH', 'AE1', 'CH'), ('UW1', 'AE1', 'AY1'), ('N', 'AE1', 'B'), ('CH', 'AE1', 'S'), ('F', 'AE1', 'SH'), ('IY0', 'AE1', 'AO1'), ('L', 'AE1', 'NG'), ('Z', 'AE1', 'S'), ('K', 'AE1', 'CH'), ('K', 'AE1', 'AH1'), ('T', 'AE1', 'TH'), ('HH', 'AE1', 'IH0'), ('L', 'AE1', 'HH'), ('L', 'AE1', 'Y'), ('SH', 'AE1', 'IH0'), ('AH0', 'AE1', 'AO1'), ('AY0', 'AE1', 'UW0'), ('V', 'AE1', 'CH'), ('M', 'AE1', 'F'), ('AH0', 'AE1', 'SH'), ('NG', 'AE1', 'G'), ('W', 'AE1', 'UW1'), ('AH1', 'AE1', 'NG'), ('T', 'AE1', 'V'), ('W', 'AE1', 'END'), ('V', 'AE1', 'F'), ('V', 'AE1', 'Y'), ('D', 'AE1', 'IH0'), ('HH', 'AE1', 'CH'), ('F', 'AE1', 'AH0'), ('OW1', 'AE1', 'L'), ('G', 'AE1', 'EH1'), ('OW1', 'AE1', 'K'), ('G', 'AE1', 'Y'), ('IY1', 'AE1', 'Z'), ('DH', 'AE1', 'IH0'), ('OW1', 'AE1', 'M'), ('EU1', 'AE1', 'JH'), ('M', 'AE1', 'T'), ('IH0', 'AE1', 'Y'), ('IH1', 'AE1', 'SH'), ('D', 'AE1', 'JH'), ('EU0', 'AE1', 'JH'), ('IY0', 'AE1', 'DH'), ('B', 'AE1', 'EU0'), ('N', 'AE1', 'P'), ('DH', 'AE1', 'HH'), ('AW1', 'AE1', 'NG'), ('L', 'AE1', 'AH0'), ('D', 'AE1', 'F'), ('V', 'AE1', 'L'), ('UW0', 'AE1', 'Y'), ('D', 'AE1', 'IY1'), ('M', 'AE1', 'AY1'), ('D', 'AE1', 'T'), ('EH1', 'AE1', 'L'), ('G', 'AE1', 'AO0'), ('T', 'AE1', 'S'), ('DH', 'AE1', 'AY0'), ('L', 'AE1', 'EH1'), ('G', 'AE1', 'S'), ('M', 'AE1', 'EH0'), ('IH1', 'AE1', 'B'), ('S', 'AE1', 'AH0'), ('K', 'AE1', 'EU0'), ('EU1', 'AE1', 'EH1'), ('R', 'AE1', 'B'), ('F', 'AE1', 'G'), ('L', 'AE1', 'AY1'), ('IY1', 'AE1', 'V'), ('IY0', 'AE1', 'AH1'), ('NG', 'AE1', 'TH'), ('S', 'AE1', 'HH'), ('N', 'AE1', 'NG'), ('TH', 'AE1', 'EU0'), ('EY1', 'AE1', 'CH'), ('EU0', 'AE1', 'G'), ('CH', 'AE1', 'END'), ('B', 'AE1', 'S'), ('AW1', 'AE1', 'END'), ('AA1', 'AE1', 'S'), ('EU1', 'AE1', 'AA1'), ('JH', 'AE1', 'CH'), ('W', 'AE1', 'V'), ('M', 'AE1', 'S'), ('S', 'AE1', 'V'), ('Z', 'AE1', 'END'), ('M', 'AE1', 'HH'), ('G', 'AE1', 'L'), ('IH0', 'AE1', 'W'), ('F', 'AE1', 'IY1'), ('AW1', 'AE1', 'IY0'), ('V', 'AE1', 'EH1'), ('R', 'AE1', 'W'), ('M', 'AE1', 'K'), ('IH1', 'AE1', 'END'), ('DH', 'AE1', 'P'), ('S', 'AE1', 'L'), ('V', 'AE1', 'END'), ('SH', 'AE1', 'S'), ('OW1', 'AE1', 'W'), ('AO1', 'AE1', 'F'), ('K', 'AE1', 'JH'), ('P', 'AE1', 'END'), ('AH1', 'AE1', 'L'), ('M', 'AE1', 'AO1'), ('UW1', 'AE1', 'B'), ('IH0', 'AE1', 'UW1'), ('L', 'AE1', 'Z'), ('B', 'AE1', 'N'), ('P', 'AE1', 'M'), ('R', 'AE1', 'K'), ('Y', 'AE1', 'M'), ('IY0', 'AE1', 'TH'), ('EY1', 'AE1', 'UW0'), ('OW1', 'AE1', 'B'), ('P', 'AE1', 'TH'), ('IH0', 'AE1', 'JH'), ('EU1', 'AE1', 'AY1'), ('AA1', 'AE1', 'IH0'), ('L', 'AE1', 'EU0'), ('SH', 'AE1', 'DH'), ('OW0', 'AE1', 'D'), ('R', 'AE1', 'S'), ('HH', 'AE1', 'AO1'), ('AH1', 'AE1', 'B'), ('AH0', 'AE1', 'Z'), ('SH', 'AE1', 'G'), ('UW1', 'AE1', 'AO1'), ('T', 'AE1', 'L'), ('R', 'AE1', 'NG'), ('HH', 'AE1', 'AH0'), ('HH', 'AE1', 'IY0'), ('L', 'AE1', 'T'), ('S', 'AE1', 'IY0'), ('AA1', 'AE1', 'W'), ('UW1', 'AE1', 'L'), ('SH', 'AE1', 'T'), ('K', 'AE1', 'L'), ('TH', 'AE1', 'IY0'), ('EU0', 'AE1', 'UW1'), ('L', 'AE1', 'END'), ('AY1', 'AE1', 'SH'), ('L', 'AE1', 'P'), ('UH1', 'AE1', 'V'), ('IH1', 'AE1', 'AY1'), ('F', 'AE1', 'V'), ('P', 'AE1', 'AA1'), ('AH1', 'AE1', 'CH'), ('DH', 'AE1', 'IH1'), ('N', 'AE1', 'AH0'), ('DH', 'AE1', 'AA1'), ('AY1', 'AE1', 'L'), ('AH1', 'AE1', 'AA1'), ('IY0', 'AE1', 'Y'), ('CH', 'AE1', 'IY0'), ('IH0', 'AE1', 'L'), ('SH', 'AE1', 'AH0'), ('G', 'AE1', 'K'), ('AA1', 'AE1', 'L'), ('K', 'AE1', 'V'), ('F', 'AE1', 'UW1'), ('M', 'AE1', 'TH'), ('AO1', 'AE1', 'END'), ('EH1', 'AE1', 'Z'), ('IY1', 'AE1', 'EY1'), ('TH', 'AE1', 'P'), ('AA1', 'AE1', 'NG'), ('EH1', 'AE1', 'V'), ('S', 'AE1', 'EU0'), ('IH0', 'AE1', 'M'), ('AY1', 'AE1', 'P'), ('G', 'AE1', 'AO1'), ('G', 'AE1', 'IY1')]\n"
     ]
    }
   ],
   "source": [
    "print(clusters[1])"
   ]
  },
  {
   "cell_type": "code",
   "execution_count": 34,
   "metadata": {
    "collapsed": false
   },
   "outputs": [
    {
     "name": "stdout",
     "output_type": "stream",
     "text": [
      "[('AW1', 'AE1', 'G'), ('HH', 'AE1', 'K'), ('L', 'AE1', 'G'), ('IY0', 'AE1', 'OW1'), ('P', 'AE1', 'Z'), ('B', 'AE1', 'D'), ('P', 'AE1', 'N'), ('Z', 'AE1', 'N'), ('R', 'AE1', 'AH0'), ('V', 'AE1', 'N'), ('AW1', 'AE1', 'S'), ('AY1', 'AE1', 'EY1'), ('IY0', 'AE1', 'S'), ('OW1', 'AE1', 'IY1'), ('AO1', 'AE1', 'D'), ('V', 'AE1', 'IH1'), ('IH0', 'AE1', 'N'), ('F', 'AE1', 'N'), ('B', 'AE1', 'UW1'), ('M', 'AE1', 'IH1'), ('N', 'AE1', 'F'), ('W', 'AE1', 'N'), ('SIL', 'AE1', 'L'), ('CH', 'AE1', 'K'), ('AY1', 'AE1', 'V'), ('Z', 'AE1', 'W'), ('R', 'AE1', 'D'), ('IH0', 'AE1', 'OW1'), ('AY1', 'AE1', 'N'), ('IH1', 'AE1', 'S'), ('N', 'AE1', 'G'), ('SH', 'AE1', 'HH'), ('UH1', 'AE1', 'END'), ('D', 'AE1', 'M'), ('L', 'AE1', 'AH1'), ('AY1', 'AE1', 'S'), ('IH0', 'AE1', 'S'), ('B', 'AE1', 'END'), ('EU0', 'AE1', 'K'), ('CH', 'AE1', 'AW1'), ('L', 'AE1', 'N'), ('Z', 'AE1', 'AH0'), ('T', 'AE1', 'N'), ('N', 'AE1', 'D'), ('DH', 'AE1', 'AY1'), ('Z', 'AE1', 'IH1'), ('EU0', 'AE1', 'CH'), ('AA1', 'AE1', 'HH'), ('IY1', 'AE1', 'AY1'), ('AW1', 'AE1', 'EH1'), ('N', 'AE1', 'S'), ('R', 'AE1', 'HH'), ('S', 'AE1', 'EU1'), ('D', 'AE1', 'W'), ('IY0', 'AE1', 'P'), ('OW1', 'AE1', 'TH'), ('D', 'AE1', 'Z'), ('EH1', 'AE1', 'S'), ('T', 'AE1', 'Z'), ('NG', 'AE1', 'K'), ('S', 'AE1', 'IH1'), ('EY1', 'AE1', 'N'), ('HH', 'AE1', 'EU1'), ('IH0', 'AE1', 'D'), ('SIL', 'AE1', 'D'), ('AO1', 'AE1', 'UH1'), ('OW1', 'AE1', 'F'), ('EU0', 'AE1', 'F'), ('OW1', 'AE1', 'D'), ('Z', 'AE1', 'B'), ('IY1', 'AE1', 'N'), ('T', 'AE1', 'W'), ('AO1', 'AE1', 'V'), ('L', 'AE1', 'IY1'), ('IY1', 'AE1', 'IY0'), ('Y', 'AE1', 'N'), ('UH1', 'AE1', 'AY0'), ('Z', 'AE1', 'EY1'), ('G', 'AE1', 'NG'), ('SH', 'AE1', 'CH'), ('G', 'AE1', 'AH1'), ('UW1', 'AE1', 'DH'), ('UH1', 'AE1', 'P'), ('V', 'AE1', 'UW1'), ('EU0', 'AE1', 'D'), ('IH0', 'AE1', 'AH0'), ('EU1', 'AE1', 'K'), ('TH', 'AE1', 'T'), ('T', 'AE1', 'D'), ('AO1', 'AE1', 'N'), ('S', 'AE1', 'DH'), ('AO1', 'AE1', 'EY1'), ('G', 'AE1', 'M'), ('D', 'AE1', 'P'), ('EY1', 'AE1', 'S'), ('Z', 'AE1', 'L'), ('IY0', 'AE1', 'N'), ('TH', 'AE1', 'D'), ('P', 'AE1', 'D'), ('SH', 'AE1', 'L'), ('NG', 'AE1', 'N'), ('K', 'AE1', 'N'), ('F', 'AE1', 'AY1'), ('AO1', 'AE1', 'AW1'), ('S', 'AE1', 'IH0'), ('D', 'AE1', 'DH'), ('AA1', 'AE1', 'AY1'), ('UW1', 'AE1', 'N'), ('S', 'AE1', 'K'), ('M', 'AE1', 'IH0'), ('N', 'AE1', 'HH'), ('F', 'AE1', 'D'), ('EU0', 'AE1', 'NG'), ('V', 'AE1', 'B'), ('AH1', 'AE1', 'OW0'), ('K', 'AE1', 'D'), ('ZH', 'AE1', 'D'), ('Z', 'AE1', 'EH1'), ('OW1', 'AE1', 'IH1'), ('IY0', 'AE1', 'AY1'), ('Z', 'AE1', 'D'), ('AY1', 'AE1', 'G'), ('D', 'AE1', 'N'), ('IY0', 'AE1', 'Z'), ('CH', 'AE1', 'SH'), ('EU0', 'AE1', 'Y'), ('F', 'AE1', 'S'), ('EH1', 'AE1', 'D'), ('D', 'AE1', 'Y'), ('L', 'AE1', 'D'), ('T', 'AE1', 'DH'), ('W', 'AE1', 'M'), ('SIL', 'AE1', 'F'), ('N', 'AE1', 'OW1'), ('S', 'AE1', 'D'), ('IY0', 'AE1', 'UW1'), ('M', 'AE1', 'D'), ('EU0', 'AE1', 'Z'), ('K', 'AE1', 'Z'), ('R', 'AE1', 'M'), ('HH', 'AE1', 'IH1'), ('SIL', 'AE1', 'S'), ('HH', 'AE1', 'L'), ('UH1', 'AE1', 'HH'), ('HH', 'AE1', 'N'), ('D', 'AE1', 'EU0'), ('R', 'AE1', 'TH'), ('EU0', 'AE1', 'B'), ('Z', 'AE1', 'M'), ('EU1', 'AE1', 'HH'), ('EU1', 'AE1', 'CH'), ('AH1', 'AE1', 'D'), ('G', 'AE1', 'D'), ('UW1', 'AE1', 'Z'), ('N', 'AE1', 'DH'), ('N', 'AE1', 'AA1'), ('CH', 'AE1', 'IH0'), ('OW0', 'AE1', 'DH'), ('OW0', 'AE1', 'P'), ('Z', 'AE1', 'AY1'), ('SIL', 'AE1', 'Z'), ('S', 'AE1', 'N'), ('N', 'AE1', 'W'), ('CH', 'AE1', 'N'), ('AH0', 'AE1', 'W'), ('EU0', 'AE1', 'DH'), ('JH', 'AE1', 'UW1'), ('F', 'AE1', 'L'), ('M', 'AE1', 'EH1'), ('D', 'AE1', 'AH0'), ('R', 'AE1', 'Z'), ('IY1', 'AE1', 'OW1'), ('UW1', 'AE1', 'D'), ('AH0', 'AE1', 'D'), ('D', 'AE1', 'EH1'), ('IY0', 'AE1', 'W'), ('IY1', 'AE1', 'B'), ('F', 'AE1', 'END'), ('AY1', 'AE1', 'AA1'), ('OW1', 'AE1', 'DH'), ('EY1', 'AE1', 'IH1'), ('S', 'AE1', 'W'), ('R', 'AE1', 'AY1'), ('P', 'AE1', 'DH'), ('IY0', 'AE1', 'D'), ('AO1', 'AE1', 'B'), ('L', 'AE1', 'V'), ('R', 'AE1', 'N'), ('SIL', 'AE1', 'M'), ('EY1', 'AE1', 'D'), ('EY1', 'AE1', 'EU0'), ('UH1', 'AE1', 'Y'), ('EU0', 'AE1', 'IY0'), ('F', 'AE1', 'HH'), ('CH', 'AE1', 'HH')]\n"
     ]
    }
   ],
   "source": [
    "print(clusters[2])"
   ]
  },
  {
   "cell_type": "code",
   "execution_count": 35,
   "metadata": {
    "collapsed": false
   },
   "outputs": [
    {
     "name": "stdout",
     "output_type": "stream",
     "text": [
      "[('T', 'AE1', 'AA1'), ('R', 'AE1', 'EY1'), ('EY1', 'AE1', 'EH1'), ('IY1', 'AE1', 'AO1'), ('IH1', 'AE1', 'OW1'), ('AY1', 'AE1', 'R'), ('IH1', 'AE1', 'N'), ('IH1', 'AE1', 'HH'), ('R', 'AE1', 'UH1'), ('D', 'AE1', 'AW1'), ('UH1', 'AE1', 'D'), ('AO1', 'AE1', 'IY0'), ('AY1', 'AE1', 'IY0'), ('N', 'AE1', 'Y'), ('IY0', 'AE1', 'HH'), ('EY1', 'AE1', 'AO1'), ('B', 'AE1', 'OW1'), ('OW1', 'AE1', 'G'), ('P', 'AE1', 'HH'), ('EU1', 'AE1', 'N'), ('B', 'AE1', 'G'), ('EY1', 'AE1', 'AH1'), ('AO1', 'AE1', 'L'), ('R', 'AE1', 'IH1'), ('W', 'AE1', 'F'), ('Z', 'AE1', 'UH1'), ('UW1', 'AE1', 'M'), ('JH', 'AE1', 'S'), ('V', 'AE1', 'AO1'), ('AW1', 'AE1', 'AH1'), ('IH1', 'AE1', 'AA1'), ('NG', 'AE1', 'M'), ('S', 'AE1', 'EH1'), ('F', 'AE1', 'UH1'), ('AW1', 'AE1', 'IH0'), ('OY1', 'AE1', 'D'), ('EY1', 'AE1', 'UW1'), ('TH', 'AE1', 'EU1'), ('M', 'AE1', 'Z'), ('V', 'AE1', 'HH'), ('IH1', 'AE1', 'UW1'), ('HH', 'AE1', 'SH'), ('SH', 'AE1', 'AO0'), ('Z', 'AE1', 'AO1'), ('OW1', 'AE1', 'N'), ('L', 'AE1', 'OW1'), ('AY1', 'AE1', 'F'), ('D', 'AE1', 'IY0'), ('AY1', 'AE1', 'EH0'), ('EU0', 'AE1', 'W'), ('B', 'AE1', 'IY0'), ('AY1', 'AE1', 'D'), ('D', 'AE1', 'AO1'), ('IH1', 'AE1', 'V'), ('EH1', 'AE1', 'W'), ('AY1', 'AE1', 'OW1'), ('AH0', 'AE1', 'M'), ('AA1', 'AE1', 'UW1'), ('EU0', 'AE1', 'SH'), ('IH1', 'AE1', 'T'), ('JH', 'AE1', 'G'), ('EU0', 'AE1', 'IH1'), ('DH', 'AE1', 'EY1'), ('W', 'AE1', 'B'), ('EY1', 'AE1', 'W'), ('JH', 'AE1', 'D'), ('EU0', 'AE1', 'AA1'), ('D', 'AE1', 'G'), ('CH', 'AE1', 'Z'), ('SH', 'AE1', 'EU0'), ('Z', 'AE1', 'OW1'), ('IY1', 'AE1', 'F'), ('SH', 'AE1', 'END'), ('AA1', 'AE1', 'TH'), ('EH1', 'AE1', 'AW1'), ('D', 'AE1', 'HH'), ('EU0', 'AE1', 'N'), ('S', 'AE1', 'AY1'), ('OW1', 'AE1', 'HH'), ('EH1', 'AE1', 'P'), ('L', 'AE1', 'B'), ('EU0', 'AE1', 'EY1'), ('S', 'AE1', 'G'), ('TH', 'AE1', 'IH0'), ('M', 'AE1', 'Y'), ('OW1', 'AE1', 'IY0'), ('IY0', 'AE1', 'AW1'), ('F', 'AE1', 'DH'), ('CH', 'AE1', 'OW1'), ('SIL', 'AE1', 'N'), ('IH1', 'AE1', 'D'), ('SH', 'AE1', 'EU1'), ('AH1', 'AE1', 'N'), ('AY1', 'AE1', 'W'), ('AW1', 'AE1', 'EU0'), ('SIL', 'AE1', 'T'), ('AA1', 'AE1', 'K'), ('SH', 'AE1', 'D'), ('IH0', 'AE1', 'P'), ('IH1', 'AE1', 'W'), ('ZH', 'AE1', 'END'), ('EH1', 'AE1', 'EY1'), ('IH1', 'AE1', 'TH'), ('P', 'AE1', 'UH1'), ('AO1', 'AE1', 'EH1')]\n"
     ]
    }
   ],
   "source": [
    "print(clusters[3])"
   ]
  },
  {
   "cell_type": "code",
   "execution_count": 31,
   "metadata": {
    "collapsed": false
   },
   "outputs": [
    {
     "name": "stdout",
     "output_type": "stream",
     "text": [
      "[('Y', 'AE1', 'AH1'), ('EU0', 'AE1', 'S'), ('HH', 'AE1', 'T'), ('SH', 'AE1', 'F'), ('K', 'AE1', 'END'), ('R', 'AE1', 'DH'), ('IH0', 'AE1', 'CH'), ('AH1', 'AE1', 'V'), ('EY1', 'AE1', 'G'), ('DH', 'AE1', 'T'), ('IY0', 'AE1', 'B'), ('F', 'AE1', 'EY1'), ('UW1', 'AE1', 'T'), ('UW0', 'AE1', 'END'), ('HH', 'AE1', 'AY1'), ('D', 'AE1', 'UW1'), ('K', 'AE1', 'B'), ('T', 'AE1', 'AH1'), ('Z', 'AE1', 'DH'), ('G', 'AE1', 'N'), ('OW1', 'AE1', 'V'), ('JH', 'AE1', 'END'), ('IY1', 'AE1', 'L'), ('R', 'AE1', 'P'), ('HH', 'AE1', 'Z'), ('JH', 'AE1', 'AA1'), ('DH', 'AE1', 'L'), ('HH', 'AE1', 'F'), ('K', 'AE1', 'AA1'), ('Z', 'AE1', 'K'), ('AE0', 'AE1', 'SH'), ('R', 'AE1', 'Y'), ('IY1', 'AE1', 'SH'), ('CH', 'AE1', 'F'), ('UW1', 'AE1', 'IY1'), ('Y', 'AE1', 'S'), ('AH0', 'AE1', 'V'), ('AH0', 'AE1', 'L'), ('R', 'AE1', 'SH'), ('Z', 'AE1', 'IH0'), ('P', 'AE1', 'S'), ('D', 'AE1', 'B'), ('M', 'AE1', 'P'), ('OW1', 'AE1', 'AO1'), ('HH', 'AE1', 'G'), ('T', 'AE1', 'B'), ('T', 'AE1', 'P'), ('P', 'AE1', 'IH0'), ('P', 'AE1', 'IH1'), ('G', 'AE1', 'EU0'), ('DH', 'AE1', 'G'), ('V', 'AE1', 'IH0'), ('EH1', 'AE1', 'R'), ('UW1', 'AE1', 'S'), ('AO1', 'AE1', 'S'), ('R', 'AE1', 'CH'), ('IH0', 'AE1', 'B'), ('IY0', 'AE1', 'F'), ('G', 'AE1', 'AH0'), ('T', 'AE1', 'AW1'), ('N', 'AE1', 'END'), ('D', 'AE1', 'K'), ('G', 'AE1', 'T'), ('L', 'AE1', 'S'), ('DH', 'AE1', 'SH'), ('N', 'AE1', 'CH'), ('K', 'AE1', 'EH0'), ('B', 'AE1', 'T'), ('N', 'AE1', 'L'), ('T', 'AE1', 'IY0'), ('AH0', 'AE1', 'T'), ('IY0', 'AE1', 'AY0'), ('D', 'AE1', 'S'), ('HH', 'AE1', 'P'), ('L', 'AE1', 'K'), ('T', 'AE1', 'G'), ('AH0', 'AE1', 'JH'), ('Z', 'AE1', 'T'), ('IY1', 'AE1', 'S'), ('G', 'AE1', 'V'), ('DH', 'AE1', 'W'), ('HH', 'AE1', 'EH1'), ('B', 'AE1', 'Z'), ('Z', 'AE1', 'P'), ('IY0', 'AE1', 'K'), ('DH', 'AE1', 'AH0'), ('R', 'AE1', 'F'), ('AH0', 'AE1', 'TH'), ('K', 'AE1', 'HH'), ('DH', 'AE1', 'S'), ('UW1', 'AE1', 'F'), ('EH1', 'AE1', 'M'), ('P', 'AE1', 'V'), ('P', 'AE1', 'AY1'), ('R', 'AE1', 'JH'), ('G', 'AE1', 'DH'), ('L', 'AE1', 'F'), ('L', 'AE1', 'TH'), ('NG', 'AE1', 'P'), ('CH', 'AE1', 'IH1'), ('AY1', 'AE1', 'DH'), ('NG', 'AE1', 'V'), ('UW1', 'AE1', 'P'), ('AH0', 'AE1', 'EY1'), ('B', 'AE1', 'AH0'), ('UH1', 'AE1', 'L'), ('IH0', 'AE1', 'END'), ('F', 'AE1', 'K'), ('HH', 'AE1', 'B'), ('DH', 'AE1', 'V'), ('Z', 'AE1', 'F'), ('F', 'AE1', 'T'), ('AW1', 'AE1', 'V'), ('D', 'AE1', 'L'), ('K', 'AE1', 'P'), ('EU0', 'AE1', 'EU1'), ('UW1', 'AE1', 'V'), ('IY0', 'AE1', 'CH'), ('Y', 'AE1', 'OW1'), ('K', 'AE1', 'F'), ('IY0', 'AE1', 'AH0'), ('AH0', 'AE1', 'K'), ('R', 'AE1', 'T'), ('IY1', 'AE1', 'EU1'), ('S', 'AE1', 'T'), ('M', 'AE1', 'JH'), ('UW1', 'AE1', 'SH'), ('S', 'AE1', 'F'), ('P', 'AE1', 'T'), ('EU1', 'AE1', 'Z'), ('OW1', 'AE1', 'S'), ('B', 'AE1', 'W'), ('UH1', 'AE1', 'EU1'), ('G', 'AE1', 'END'), ('EY1', 'AE1', 'B'), ('K', 'AE1', 'T'), ('HH', 'AE1', 'DH'), ('CH', 'AE1', 'AY1'), ('DH', 'AE1', 'TH'), ('CH', 'AE1', 'P'), ('HH', 'AE1', 'S'), ('IY0', 'AE1', 'T'), ('DH', 'AE1', 'EH1'), ('V', 'AE1', 'S'), ('AO1', 'AE1', 'W'), ('S', 'AE1', 'B'), ('EH1', 'AE1', 'DH'), ('G', 'AE1', 'R'), ('IH1', 'AE1', 'CH'), ('Y', 'AE1', 'AO1'), ('JH', 'AE1', 'AH0'), ('D', 'AE1', 'SH'), ('UH1', 'AE1', 'DH'), ('P', 'AE1', 'SH'), ('P', 'AE1', 'NG'), ('DH', 'AE1', 'K'), ('R', 'AE1', 'L'), ('V', 'AE1', 'TH'), ('Z', 'AE1', 'EU0'), ('R', 'AE1', 'V'), ('HH', 'AE1', 'V'), ('AO1', 'AE1', 'G'), ('IY1', 'AE1', 'D'), ('K', 'AE1', 'S'), ('UH1', 'AE1', 'B'), ('B', 'AE1', 'K'), ('T', 'AE1', 'F'), ('EY1', 'AE1', 'F'), ('AH1', 'AE1', 'IH1'), ('G', 'AE1', 'AY1'), ('F', 'AE1', 'IH0'), ('K', 'AE1', 'EY1'), ('P', 'AE1', 'B'), ('M', 'AE1', 'EU0'), ('SH', 'AE1', 'AA1'), ('IY1', 'AE1', 'K'), ('T', 'AE1', 'K')]\n"
     ]
    }
   ],
   "source": [
    "print(clusters[4])"
   ]
  },
  {
   "cell_type": "markdown",
   "metadata": {},
   "source": [
    "Я теряюсь, как это все проинтерпретировать, так как ничего не знаю об английской фонетике."
   ]
  },
  {
   "cell_type": "code",
   "execution_count": null,
   "metadata": {
    "collapsed": true
   },
   "outputs": [],
   "source": []
  }
 ],
 "metadata": {
  "kernelspec": {
   "display_name": "Python 3",
   "language": "python",
   "name": "python3"
  },
  "language_info": {
   "codemirror_mode": {
    "name": "ipython",
    "version": 3
   },
   "file_extension": ".py",
   "mimetype": "text/x-python",
   "name": "python",
   "nbconvert_exporter": "python",
   "pygments_lexer": "ipython3",
   "version": "3.5.2"
  }
 },
 "nbformat": 4,
 "nbformat_minor": 0
}
